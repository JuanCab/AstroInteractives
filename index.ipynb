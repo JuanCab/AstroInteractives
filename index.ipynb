{
 "cells": [
  {
   "cell_type": "markdown",
   "metadata": {},
   "source": [
    "# Astronomical Interactives"
   ]
  },
  {
   "cell_type": "markdown",
   "metadata": {},
   "source": [
    "[*Astro Interactives*](https://juancab.github.io/AstroInteractives/) is a series of Jupyter Notebooks meant to provide \n",
    "interactive demos and simulations for introductory astronomy courses.  These notebooks were initially developed by \n",
    "- Juan Cabanela (Professor for Physics and Astronomy at Minnesota State University Moorhead)\n",
    "- Andrew Louwagie Gordon (Student at Minnesota State University Moorhead)\n",
    "- Sam Holen (Student at Minnesota State University Moorhead)\n",
    "\n",
    "The goal was to replace many of the Adobe Flash-based tools that we use in labs using applications we created in-house.  This allows much greater tunability to our needs AND is likely to be usable much farther into the future since Adobe Flash's end of life is set for the end of 2020.\n",
    "\n",
    "This software is provide \"as-is\" and may contain bugs/errors that could  mis-represent astronomical reality.  You use this software at your own risk!  Keep in mind the authors are not professional programers!"
   ]
  },
  {
   "cell_type": "markdown",
   "metadata": {},
   "source": [
    "## Available Notebooks"
   ]
  },
  {
   "cell_type": "markdown",
   "metadata": {},
   "source": [
    "The currently available Jupyter Notebooks (in no particular order) are the following:\n",
    "\n",
    "1. [Radioactive Decay Interactive](Interactives/radioactive_decay.ipynb) ([Launch in AppMode](https://mybinder.org/v2/gh/JuanCab/AstroInteractives/master?urlpath=%2Fapps%2FInteractives%2Fradioactive_decay.ipynb))  - This activity is used to illustrate the concept of radioactive decay and half-life.\n",
    "2. [Radioactive Isochrones Interactive](Interactives/Isochrones.ipynb) ([Launch in AppMode](https://mybinder.org/v2/gh/JuanCab/AstroInteractives/master?urlpath=%2Fapps%2FInteractives%2FIsochrones.ipynb))  - This activity is used to illustrate how radioactive dataing works using radioactive isochrones.  It is meant to be used after introducing the students to the concept of half-lives.\n",
    "3. [Center of Mass Interactive](Interactives/Center_of_Mass.ipynb) ([Launch in AppMode](https://mybinder.org/v2/gh/JuanCab/AstroInteractives/master?urlpath=%2Fapps%2FInteractives%2FCenter_of_Mass.ipynb)) - **(WARNING: This interactive uses 3D widgets from *pythreejs*, may fail to work properly in AppMode.)**  This simulation simply allows a student to adjust the mass of two stars and dynamically shifts them back and forth to illustrate the center of mass position.  **Note:** The star colors and relative radii are approximately accurate assuming they are main sequence stars!\n",
    "4. [Luminosity Calculator Interactive](Interactives/LuminosityCalculator.ipynb) ([Launch in AppMode)](https://mybinder.org/v2/gh/JuanCab/AstroInteractives/master?urlpath=%2Fapps%2FInteractives%2FLuminosityCalculator.ipynb))  - **(WARNING: This interactive uses 3D widgets from *pythreejs*, may fail to work properly in AppMode.)** This activity is used to illustrate to students how the radius and temperature of a star affect its luminosity.  **Note:** The colors of the stars accurately correspond to the temperature, but the stars produced might not have radii and temperatures that correspond to real stars.\n",
    "5. [Blackbody Simulation](Interactives/BlackbodySimulation.ipynb) ([Launch in AppMode](https://mybinder.org/v2/gh/JuanCab/AstroInteractives/master?urlpath=%2Fapps%2FInteractives%2FBlackbodySimulation.ipynb)) - This simulation shows a Planck spectrum with user controls for the temperature.  We eventually hope to add B-V color estimation, similar to the [Flash-based UNL Blackbody Curves activity](http://astro.unl.edu/classaction/animations/light/bbexplorer.html)\n",
    "6. [HR Diagram Interactive](Interactives/Interactive_HR_Diagram.ipynb) ([Launch in AppMode](https://mybinder.org/v2/gh/JuanCab/AstroInteractives/master?urlpath=%2Fapps%2FInteractives%2FInteractive_HR_Diagram.ipynb)) - This set of interactive graphics allows a student to explore the data that goes into the HR diagram, then how main sequence fitting can be used to determine the distance to a star cluster, and finally, how detailed stellar evolution models can be used to also determine the age of a star cluster.  **Note:** This notebook uses all \"real data\" with the exception of the fact that to show a brightness diagram corresponding to an HR diagram, the distances (and corresponding brightnesses) were 'assigned.'"
   ]
  },
  {
   "cell_type": "markdown",
   "metadata": {},
   "source": [
    "## Known issues"
   ]
  },
  {
   "cell_type": "markdown",
   "metadata": {},
   "source": [
    "- The tooltip in the radioactive decay interactive is not working properly.\n",
    "- Display of equations can lag, allowing underlying LaTeX to be visible briefly.\n",
    "- We are aware of some issues running interactives that use 3D widgets from *pythreejs* in *AppMode*."
   ]
  },
  {
   "cell_type": "markdown",
   "metadata": {},
   "source": [
    "## Documentation/Help"
   ]
  },
  {
   "cell_type": "markdown",
   "metadata": {
    "collapsed": true
   },
   "source": [
    "- The documentation for how the Python notebooks do what they do are in the code comments for now.  We hope to eventually add copies of some of the lab exercises we do so people can see these on context.\n",
    "- Send us an email at cabanela@mnstate.edu if you need any help/information."
   ]
  }
 ],
 "metadata": {
  "kernelspec": {
   "display_name": "Python [default]",
   "language": "python",
   "name": "python3"
  },
  "language_info": {
   "codemirror_mode": {
    "name": "ipython",
    "version": 3
   },
   "file_extension": ".py",
   "mimetype": "text/x-python",
   "name": "python",
   "nbconvert_exporter": "python",
   "pygments_lexer": "ipython3",
   "version": "3.6.5"
  }
 },
 "nbformat": 4,
 "nbformat_minor": 1
}
