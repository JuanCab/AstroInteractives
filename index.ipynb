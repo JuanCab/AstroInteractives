{
 "cells": [
  {
   "cell_type": "markdown",
   "metadata": {},
   "source": [
    "# Astronomical Interactives"
   ]
  },
  {
   "cell_type": "markdown",
   "metadata": {},
   "source": [
    "[*Astro Interactives*](https://juancab.github.io/AstroInteractives/) is a series of Jupyter Notebooks meant to provide \n",
    "interactive demos and simulations for introductory astronomy courses.  These notebooks were initially developed by \n",
    "- Juan Cabanela (Professor for Physics and Astronomy at Minnesota State University Moorhead)\n",
    "- Andrew Louwagie Gordon (Student at Minnesota State University Moorhead)\n",
    "- Sam Holen (Student at Minnesota State University Moorhead)\n",
    "\n",
    "The goal was to replace many of the Adobe Flash-based tools that we use in labs using applications we created in-house.  This allows much greater tunability to our needs AND is likely to be usable much farther into the future since Adobe Flash's end of life is set for the end of 2020.\n",
    "\n",
    "This software is provide \"as-is\" and may contain bugs/errors that could  mis-represent astronomical reality.  You use this software at your own risk!  Keep in mind the authors are not professional programers!"
   ]
  },
  {
   "cell_type": "markdown",
   "metadata": {},
   "source": [
    "## Available Notebooks"
   ]
  },
  {
   "cell_type": "markdown",
   "metadata": {},
   "source": [
    "The currently available Jupyter Notebooks (in no particular order) are the following:\n",
    "\n",
    "1. [Radioactive Decay Simulations](Interactives/Radioactive_Sims.ipynb)  - This activity is used to illustrate the concept of radioactive decay, half-life, and how these concepts can be used to determine the age of some rocks via the geochron method.\n",
    "2. [Center of Mass Interactive](Interactives/Center_of_Mass.ipynb) - This simulation simply allows a student to adjust the mass of two stars and dynamically shifts them back and forth to illustrate the center of mass position.  **Note:** The star colors and relative radii are approximately accurate assuming they are main sequence stars!\n",
    "3. [Binary Star Simulation](Interactives/Binary_Star_Sim.ipynb) -  This is the most complex simulation in the bunch, constructing a full 3D simulation of a binary star system and then displaying a radial velocity or light curve for that system.  The user can control most aspects of the system (although the stars are assumed to be main sequence star.\n",
    "4. [Luminosity Calculator Interactive](Interactives/LuminosityCalculator.ipynb)  - This activity is used to illustrate to students how the radius and temperature of a star affect its luminosity.  **Note:** The colors of the stars accurately correspond to the temperature, but the stars produced might not have radii and temperatures that correspond to real stars.\n",
    "5. [Blackbody Simulation](Interactives/Blackbody_Simulation.ipynb) - This simulation shows a Planck spectrum with user controls for the temperature.  It also has an interface for seeing how the computed B-V (and other) colors vary with temperature inspired by the [Flash-based UNL Blackbody Curves activity](http://astro.unl.edu/classaction/animations/light/bbexplorer.html).\n",
    "6. [HR Diagram Interactive](Interactives/HR_Diagram.ipynb) - This set of interactive graphics allows a student to explore the data that goes into the HR diagram, then how main sequence fitting can be used to determine the distance to a star cluster, and finally, how detailed stellar evolution models can be used to also determine the age of a star cluster.  **Note:** This notebook uses all \"real data\" with the exception of the fact that to show a brightness diagram corresponding to an HR diagram, the distances (and corresponding brightnesses) were 'assigned.'"
   ]
  },
  {
   "cell_type": "markdown",
   "metadata": {},
   "source": [
    "## Known issues"
   ]
  },
  {
   "cell_type": "markdown",
   "metadata": {},
   "source": [
    "- Display of equations can lag, allowing underlying LaTeX to be visible briefly.\n",
    "- When run in Binder, some of the widgets are showing additional scrollbars.  We are working on addressing this."
   ]
  },
  {
   "cell_type": "markdown",
   "metadata": {},
   "source": [
    "## Documentation/Help"
   ]
  },
  {
   "cell_type": "markdown",
   "metadata": {
    "collapsed": true
   },
   "source": [
    "- The documentation for how the Python notebooks do what they do are in the code comments for now.  We hope to eventually add copies of some of the lab exercises we do so people can see these on context.\n",
    "- Send us an email at cabanela@mnstate.edu if you need any help/information."
   ]
  }
 ],
 "metadata": {
  "kernelspec": {
   "display_name": "Python [default]",
   "language": "python",
   "name": "python3"
  },
  "language_info": {
   "codemirror_mode": {
    "name": "ipython",
    "version": 3
   },
   "file_extension": ".py",
   "mimetype": "text/x-python",
   "name": "python",
   "nbconvert_exporter": "python",
   "pygments_lexer": "ipython3",
   "version": "3.6.6"
  }
 },
 "nbformat": 4,
 "nbformat_minor": 1
}
