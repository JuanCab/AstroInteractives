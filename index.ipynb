{
 "cells": [
  {
   "cell_type": "markdown",
   "metadata": {},
   "source": [
    "# Astronomical Interactives"
   ]
  },
  {
   "cell_type": "markdown",
   "metadata": {},
   "source": [
    "*Astro Interactives* is a series of Jupyter Notebooks meant to provide \n",
    "interactive demos and simulations for introductory astronomy courses.  These notebooks were initially developed in the summer of 2018 by \n",
    "\n",
    "- Juan Cabanela (Professor for Physics and Astronomy at Minnesota State University Moorhead)\n",
    "- Andrew Louwagie Gordon (Student at Minnesota State University Moorhead)\n",
    "- Sam Holen (Student at Minnesota State University Moorhead)\n",
    "\n",
    "The goal was to replace many of the Adobe Flash-based tools that we use in labs using applications we created in-house.  This allows much greater tunability to our needs AND is likely to be usable much farther into the future since Adobe Flash's end of life is set for the end of 2020.\n",
    "\n",
    "This software is provide \"as-is\" and may contain bugs/errors that could  mis-represent astronomical reality.  You use this software at your own risk!  Keep in mind the authors are not professional programers!"
   ]
  },
  {
   "cell_type": "markdown",
   "metadata": {},
   "source": [
    "## Available Notebooks"
   ]
  },
  {
   "cell_type": "markdown",
   "metadata": {},
   "source": [
    "The currently available Jupyter Notebooks (in no particular order) are the following:"
   ]
  },
  {
   "cell_type": "markdown",
   "metadata": {},
   "source": [
    "1. [Blackbody Simulation](BlackbodySimulation/BlackbodySimulation.ipynb) ([Launch in AppMode](https://mybinder.org/v2/gh/JuanCab/AstroInteractives/master?urlpath=%2Fapps%2FBlackbodySimulation%2FBlackbodySimulation.ipynb)) - This simulation shows a Planck spectrum with user controls for the temperature.  We eventually hope to add B-V color estimation, similar to the [Flash-based UNL Blackbody Curves activity](http://astro.unl.edu/classaction/animations/light/bbexplorer.html)\n",
    "2. [Center of Mass Interactive](Center_of_Mass/Center_of_Mass.ipynb) ([Launch in AppMode](https://mybinder.org/v2/gh/JuanCab/AstroInteractives/master?urlpath=%2Fapps%2FCenter_of_Mass%2FCenter_of_Mass.ipynb)) - This simulation simply allows a student to adjust the mass of two stars and dynamically shifts them back and forth to illustrate the center of mass position.  **Note:** The star colors and relative radii are approximately accurate assuming they are main sequence stars!\n",
    "3. [HR Diagram Interactive](HRdiagram/Interactive_HR_Diagram.ipynb) ([Launch in AppMode](https://mybinder.org/v2/gh/JuanCab/AstroInteractives/master?urlpath=%2Fapps%2FHRdiagram%2FInteractive_HR_Diagram.ipynb)) - This set of interactive graphics allows a student to explore the data that goes into the HR diagram, then how main sequence fitting can be used to determine the distance to a star cluster, and finally, how detailed stellar evolution models can be used to also determine the age of a star cluster.  **Note:** This notebook uses all \"real data\" with the exception of the fact that to show a brightness diagram corresponding to an HR diagram, the distances (and corresponding brightnesses) were 'assigned.'\n",
    "4. [Luminosity Calculator Interactive](LuminosityCalculator/LuminosityCalculator.ipynb) ([Launch in AppMode](https://mybinder.org/v2/gh/JuanCab/AstroInteractives/master?urlpath=%2Fapps%2FLuminosityCalculator%2FLuminosityCalculator.ipynb))  - This activity is used to illustrate to students how the radius and temperature of a star affect its luminosity.  **Note:** The colors of the stars accurately correspond to the temperature, but the stars produced might not have radii and temperatures that correspond to real stars.\n",
    "5. [Radioactive Isochrones Interactive](RadioactiveIsochrones/Isochrones.ipynb) ([Launch in AppMode](https://mybinder.org/v2/gh/JuanCab/AstroInteractives/master?urlpath=%2Fapps%2FRadioactiveIsochrones%2FIsochrones.ipynb))  - This activity is used to illustrate how radioactive dataing works using radioactive isochrones.  It is meant to be used after introducing the students to the concept of half-lives."
   ]
  },
  {
   "cell_type": "markdown",
   "metadata": {},
   "source": [
    "## Help"
   ]
  },
  {
   "cell_type": "markdown",
   "metadata": {
    "collapsed": true
   },
   "source": [
    "- The documentation for how the code does what it does is in the comments. \n",
    "- Send us an email at cabanela@mnstate.edu if you need any help/information."
   ]
  },
  {
   "cell_type": "code",
   "execution_count": null,
   "metadata": {
    "collapsed": true
   },
   "outputs": [],
   "source": []
  }
 ],
 "metadata": {
  "kernelspec": {
   "display_name": "Python [default]",
   "language": "python",
   "name": "python3"
  },
  "language_info": {
   "codemirror_mode": {
    "name": "ipython",
    "version": 3
   },
   "file_extension": ".py",
   "mimetype": "text/x-python",
   "name": "python",
   "nbconvert_exporter": "python",
   "pygments_lexer": "ipython3",
   "version": "3.6.5"
  }
 },
 "nbformat": 4,
 "nbformat_minor": 1
}
