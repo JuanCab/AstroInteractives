{
 "cells": [
  {
   "cell_type": "markdown",
   "metadata": {},
   "source": [
    "# Blackbody Simulation\n",
    "\n",
    "This is a simple first run through creating a blackbody curve that students can change the temperature of."
   ]
  },
  {
   "cell_type": "code",
   "execution_count": null,
   "metadata": {},
   "outputs": [],
   "source": [
    "# Author: Andrew Louwagie Gordon\n",
    "# Date Created: 29May2018\n",
    "# Last Modified: 01Jun2018"
   ]
  },
  {
   "cell_type": "code",
   "execution_count": null,
   "metadata": {},
   "outputs": [],
   "source": [
    "# Import Block\n",
    "# Import the necessary packages\n",
    "import ipywidgets as widgets\n",
    "import bqplot as bq\n",
    "import numpy as np\n",
    "import tempNcolor as tc\n",
    "import expToLaTeX as e2l"
   ]
  },
  {
   "cell_type": "code",
   "execution_count": null,
   "metadata": {},
   "outputs": [],
   "source": [
    "# Function Definitions Block\n",
    "\n",
    "def Wein(T):\n",
    "    '''\n",
    "    This is Wein's Law and returns the peak wavelength.\n",
    "    '''\n",
    "    lamda_max = 0.002897755 / T\n",
    "    return lamda_max\n",
    "\n",
    "def blackbody(lamda, T):\n",
    "    '''\n",
    "    This function takes the array of wavelengths and the temmperature from the slider and returns an array of fluxes that\n",
    "    correspond to the blackbody curve.\n",
    "    '''\n",
    "    return ( (2 * h * (c ** 2)) / (lamda ** 5) ) / ( np.exp((h * c) / (lamda * k * T)) - 1 )\n",
    "\n",
    "def cr(change=None):\n",
    "    '''\n",
    "    This function updates the first figure which compares the spectra of several stars.\n",
    "    '''\n",
    "    global wavelengths\n",
    "    line4.y = [blackbody(wavelengths,Temp.value)]\n",
    "    pw = Wein(Temp.value)\n",
    "    list = e2l.exp2LaTeX(pw) # Get LaTeX form of number\n",
    "    peak_wavelength.value =  r'\\({}\\)'.format(list[1])\n",
    "    \n",
    "def fini(change=None):\n",
    "    '''\n",
    "    This function updates the second figure which shows the peak of the function with respect to the visible spectrum.\n",
    "    '''\n",
    "    global my_wl, wide_line\n",
    "    my_f = blackbody(wavelengths,Temp.value) \n",
    "    y_zeros = np.zeros_like(wavelengths)\n",
    "    y_array = np.array([y_zeros, my_f])\n",
    "    fin_y_array = y_array.transpose()    \n",
    "    wide_line.y = [fin_y_array]     "
   ]
  },
  {
   "cell_type": "code",
   "execution_count": null,
   "metadata": {},
   "outputs": [],
   "source": [
    "# Variable Definition Block\n",
    "# Define the constants\n",
    "c = 3e8\n",
    "h = 6.626e-34\n",
    "k = 1.38e-23\n",
    "\n",
    "# Define the peak wavelength to be updated later\n",
    "pw = 10 ** -6\n",
    "\n",
    "# Define all wavelengths from 1 nm to 1600 nm\n",
    "wavelengths = np.arange(1.0e-9, 1601.0e-9, 1e-9)\n",
    "\n",
    "list = e2l.exp2LaTeX(pw) # Make a list from the number2LaTeX converter being used"
   ]
  },
  {
   "cell_type": "code",
   "execution_count": null,
   "metadata": {},
   "outputs": [],
   "source": [
    "# Widget Definitions Block\n",
    "# This widget controls the temperature of the black body\n",
    "Temp = widgets.FloatSlider(\n",
    "    min=2800,\n",
    "    max=42000,\n",
    "    step=100,\n",
    "    disabled=False,\n",
    "    continuous_update=True,\n",
    "    orientation='horizontal',\n",
    "    readout=True,\n",
    "    readout_format='d',\n",
    ")\n",
    "\n",
    "# Widget to report updated peak wavelength \n",
    "peak_wavelength = widgets.Label(\n",
    "    value = r'\\({}\\)'.format(list[1]),\n",
    "    placeholder = 'Type something',\n",
    "    disabled = True   \n",
    ")"
   ]
  },
  {
   "cell_type": "code",
   "execution_count": null,
   "metadata": {},
   "outputs": [],
   "source": [
    "# Required Data Block\n",
    "# Update peak wavelength\n",
    "pw = Wein(Temp.value) \n",
    "\n",
    "# Useful arrays are defined here for reference later\n",
    "f1 = blackbody(wavelengths,7000)\n",
    "f2 = blackbody(wavelengths,5800)\n",
    "f3 = blackbody(wavelengths,4000)\n",
    "f4 = blackbody(wavelengths,Temp.value)\n",
    "my_f = blackbody(wavelengths,Temp.value)"
   ]
  },
  {
   "cell_type": "code",
   "execution_count": null,
   "metadata": {},
   "outputs": [],
   "source": [
    "# Figure 1 Definition Block\n",
    "# Define the scale\n",
    "x_sc = bq.LinearScale()\n",
    "y_sc = bq.LinearScale()\n",
    "\n",
    "# Define the axes\n",
    "ax_x = bq.Axis(label='Wavelength (nm)', scale=x_sc, tick_format='0.0e-9f')\n",
    "ax_y = bq.Axis(label='Flux', scale=y_sc, orientation='vertical', tick_format='0.0e9f')\n",
    "\n",
    "# Define the Markers\n",
    "line1= bq.Lines(x=wavelengths, # Marker 1\n",
    "             y=f1,\n",
    "             name = ['4000'],\n",
    "             scales={'x': x_sc, 'y': y_sc},\n",
    "             colors=['yellow'])\n",
    "\n",
    "line2= bq.Lines(x=wavelengths, # Marker 2\n",
    "             y=f2,\n",
    "             scales={'x': x_sc, 'y': y_sc},\n",
    "             colors=['orange'])\n",
    "\n",
    "line3= bq.Lines(x=wavelengths, # Marker 3\n",
    "             y=f3,\n",
    "             scales={'x': x_sc, 'y': y_sc},\n",
    "             colors=['red'])\n",
    "\n",
    "line4= bq.Lines(x=wavelengths, # Marker 4, this is the interactive marker\n",
    "             y=f4,\n",
    "             scales={'x': x_sc, 'y': y_sc},\n",
    "             colors=['blue'])\n",
    "\n",
    "# Call the function to update the figure in real time\n",
    "Temp.observe(cr, names=['value'])\n",
    "\n",
    "# Define Figure 1\n",
    "fig = bq.Figure(title = 'Blackbody Compared to Common Stars',axes=[ax_x, ax_y], animation = 1000, \n",
    "                marks=[line1, line2, line3, line4])"
   ]
  },
  {
   "cell_type": "code",
   "execution_count": null,
   "metadata": {},
   "outputs": [],
   "source": [
    "# Figure 2 Definition Block\n",
    "# Define the scale\n",
    "x_sc2 = bq.LinearScale()\n",
    "y_sc2 = bq.LinearScale()\n",
    "\n",
    "# Define the axes\n",
    "ax_x2 = bq.Axis(label='Wavelength (nm)', scale=x_sc, tick_format='0.0e-9f')\n",
    "ax_y2 = bq.Axis(label='Flux', scale=y_sc, orientation='vertical', tick_format='0.0e9f')\n",
    "\n",
    "# These lines define the colors to be plotted and which wavelengths they are plotted at, uses hexidecimal designation\n",
    "colors_array = tc.wav2hex(wavelengths*10**9)\n",
    "colors_list = colors_array.tolist()\n",
    "\n",
    "# The curve for this figureis drawn by drawing a bunch of vertical lines that go from zero to the blackbody curve, These \n",
    "#     arrays provide the proper pairs of points that define each individual line\n",
    "x_array = np.array([wavelengths, wavelengths])\n",
    "fin_x_array = x_array.transpose() # Arrays must be transposed to get pairs of numbers\n",
    "y_zeros = np.zeros_like(wavelengths)\n",
    "y_array = np.array([y_zeros, my_f])\n",
    "fin_y_array = y_array.transpose() # Arrays must be transposed to get pairs of numbers\n",
    "\n",
    "# This is the line command that draws all the lines\n",
    "wide_line = bq.Lines(x = fin_x_array, y = fin_y_array, scales={'x': x_sc2, 'y': y_sc2}, colors=colors_list)\n",
    "\n",
    "# Implement the update function\n",
    "Temp.observe(fini, names=['value'])\n",
    "\n",
    "# Define Figure 2\n",
    "fig2 = bq.Figure(title = 'Blackbody Peak Wavelength', axes=[ax_x2, ax_y2], animation = 1000, marks = [wide_line])"
   ]
  },
  {
   "cell_type": "code",
   "execution_count": null,
   "metadata": {},
   "outputs": [],
   "source": [
    "# Display Block\n",
    "# Organize the widgets to display in a presentable fashion \n",
    "top = widgets.HBox([fig,fig2]) # Make the visual figures appear on the top for eay veiwing\n",
    "top.children[0].layout.width = '450px' # Resize Figure 1 so that both figures fit on the screen\n",
    "top.children[1].layout.width = '450px' # Resize Figure 2 so that both figures fit on the screen\n",
    "temp_slide = widgets.HBox([widgets.Label('Temperature (K)'),Temp]) # Label the temperature slider to prevent text cut-off\n",
    "p_wave = widgets.HBox([widgets.Label('Peak Wavelength (m)'), peak_wavelength])\n",
    "p_wave.children[1].layout.width = '100px' # Make the widget large enough to handle the LaTeX notation \n",
    "bottom = widgets.HBox([temp_slide,p_wave])\n",
    "box = widgets.VBox([top, bottom], layout = widgets.Layout(align_items = 'center')) # Organize everything presentably\n",
    "box # Display it"
   ]
  },
  {
   "cell_type": "code",
   "execution_count": null,
   "metadata": {},
   "outputs": [],
   "source": []
  }
 ],
 "metadata": {
  "kernelspec": {
   "display_name": "Python [conda root]",
   "language": "python",
   "name": "conda-root-py"
  },
  "language_info": {
   "codemirror_mode": {
    "name": "ipython",
    "version": 3
   },
   "file_extension": ".py",
   "mimetype": "text/x-python",
   "name": "python",
   "nbconvert_exporter": "python",
   "pygments_lexer": "ipython3",
   "version": "3.6.5"
  }
 },
 "nbformat": 4,
 "nbformat_minor": 2
}
